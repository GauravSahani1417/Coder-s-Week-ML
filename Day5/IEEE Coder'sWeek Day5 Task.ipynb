{
 "cells": [
  {
   "cell_type": "code",
   "execution_count": 1,
   "metadata": {},
   "outputs": [],
   "source": [
    "import pandas as pd\n",
    "import numpy as np"
   ]
  },
  {
   "cell_type": "code",
   "execution_count": 2,
   "metadata": {},
   "outputs": [],
   "source": [
    "df=pd.read_csv('MachineLearning.csv')"
   ]
  },
  {
   "cell_type": "code",
   "execution_count": 3,
   "metadata": {},
   "outputs": [
    {
     "data": {
      "text/html": [
       "<div>\n",
       "<style scoped>\n",
       "    .dataframe tbody tr th:only-of-type {\n",
       "        vertical-align: middle;\n",
       "    }\n",
       "\n",
       "    .dataframe tbody tr th {\n",
       "        vertical-align: top;\n",
       "    }\n",
       "\n",
       "    .dataframe thead th {\n",
       "        text-align: right;\n",
       "    }\n",
       "</style>\n",
       "<table border=\"1\" class=\"dataframe\">\n",
       "  <thead>\n",
       "    <tr style=\"text-align: right;\">\n",
       "      <th></th>\n",
       "      <th>id</th>\n",
       "      <th>conversation_id</th>\n",
       "      <th>created_at</th>\n",
       "      <th>date</th>\n",
       "      <th>time</th>\n",
       "      <th>timezone</th>\n",
       "      <th>user_id</th>\n",
       "      <th>username</th>\n",
       "      <th>name</th>\n",
       "      <th>place</th>\n",
       "      <th>...</th>\n",
       "      <th>geo</th>\n",
       "      <th>source</th>\n",
       "      <th>user_rt_id</th>\n",
       "      <th>user_rt</th>\n",
       "      <th>retweet_id</th>\n",
       "      <th>reply_to</th>\n",
       "      <th>retweet_date</th>\n",
       "      <th>translate</th>\n",
       "      <th>trans_src</th>\n",
       "      <th>trans_dest</th>\n",
       "    </tr>\n",
       "  </thead>\n",
       "  <tbody>\n",
       "    <tr>\n",
       "      <th>0</th>\n",
       "      <td>1269188666171297792</td>\n",
       "      <td>1269188666171297792</td>\n",
       "      <td>1591433133000</td>\n",
       "      <td>2020-06-06</td>\n",
       "      <td>14:15:33</td>\n",
       "      <td>India Standard Time</td>\n",
       "      <td>3222850370</td>\n",
       "      <td>ai_scientist</td>\n",
       "      <td>Robotic Scientist</td>\n",
       "      <td>NaN</td>\n",
       "      <td>...</td>\n",
       "      <td>NaN</td>\n",
       "      <td>NaN</td>\n",
       "      <td>NaN</td>\n",
       "      <td>NaN</td>\n",
       "      <td>NaN</td>\n",
       "      <td>[{'user_id': '3222850370', 'username': 'AI_Sci...</td>\n",
       "      <td>NaN</td>\n",
       "      <td>NaN</td>\n",
       "      <td>NaN</td>\n",
       "      <td>NaN</td>\n",
       "    </tr>\n",
       "    <tr>\n",
       "      <th>1</th>\n",
       "      <td>1269188574295085061</td>\n",
       "      <td>1269188574295085061</td>\n",
       "      <td>1591433111000</td>\n",
       "      <td>2020-06-06</td>\n",
       "      <td>14:15:11</td>\n",
       "      <td>India Standard Time</td>\n",
       "      <td>555031989</td>\n",
       "      <td>ronald_vanloon</td>\n",
       "      <td>Ronald van Loon</td>\n",
       "      <td>NaN</td>\n",
       "      <td>...</td>\n",
       "      <td>NaN</td>\n",
       "      <td>NaN</td>\n",
       "      <td>NaN</td>\n",
       "      <td>NaN</td>\n",
       "      <td>NaN</td>\n",
       "      <td>[{'user_id': '555031989', 'username': 'Ronald_...</td>\n",
       "      <td>NaN</td>\n",
       "      <td>NaN</td>\n",
       "      <td>NaN</td>\n",
       "      <td>NaN</td>\n",
       "    </tr>\n",
       "    <tr>\n",
       "      <th>2</th>\n",
       "      <td>1269188382103670787</td>\n",
       "      <td>1269188382103670787</td>\n",
       "      <td>1591433065000</td>\n",
       "      <td>2020-06-06</td>\n",
       "      <td>14:14:25</td>\n",
       "      <td>India Standard Time</td>\n",
       "      <td>1269440827</td>\n",
       "      <td>analyticsfrance</td>\n",
       "      <td>Analytics France</td>\n",
       "      <td>NaN</td>\n",
       "      <td>...</td>\n",
       "      <td>NaN</td>\n",
       "      <td>NaN</td>\n",
       "      <td>NaN</td>\n",
       "      <td>NaN</td>\n",
       "      <td>NaN</td>\n",
       "      <td>[{'user_id': '1269440827', 'username': 'Analyt...</td>\n",
       "      <td>NaN</td>\n",
       "      <td>NaN</td>\n",
       "      <td>NaN</td>\n",
       "      <td>NaN</td>\n",
       "    </tr>\n",
       "    <tr>\n",
       "      <th>3</th>\n",
       "      <td>1269188380585275392</td>\n",
       "      <td>1269188380585275392</td>\n",
       "      <td>1591433064000</td>\n",
       "      <td>2020-06-06</td>\n",
       "      <td>14:14:24</td>\n",
       "      <td>India Standard Time</td>\n",
       "      <td>1269440827</td>\n",
       "      <td>analyticsfrance</td>\n",
       "      <td>Analytics France</td>\n",
       "      <td>NaN</td>\n",
       "      <td>...</td>\n",
       "      <td>NaN</td>\n",
       "      <td>NaN</td>\n",
       "      <td>NaN</td>\n",
       "      <td>NaN</td>\n",
       "      <td>NaN</td>\n",
       "      <td>[{'user_id': '1269440827', 'username': 'Analyt...</td>\n",
       "      <td>NaN</td>\n",
       "      <td>NaN</td>\n",
       "      <td>NaN</td>\n",
       "      <td>NaN</td>\n",
       "    </tr>\n",
       "    <tr>\n",
       "      <th>4</th>\n",
       "      <td>1269188086736531456</td>\n",
       "      <td>1269188086736531456</td>\n",
       "      <td>1591432994000</td>\n",
       "      <td>2020-06-06</td>\n",
       "      <td>14:13:14</td>\n",
       "      <td>India Standard Time</td>\n",
       "      <td>13773282</td>\n",
       "      <td>timkindberg</td>\n",
       "      <td>Tim Kindberg</td>\n",
       "      <td>NaN</td>\n",
       "      <td>...</td>\n",
       "      <td>NaN</td>\n",
       "      <td>NaN</td>\n",
       "      <td>NaN</td>\n",
       "      <td>NaN</td>\n",
       "      <td>NaN</td>\n",
       "      <td>[{'user_id': '13773282', 'username': 'timkindb...</td>\n",
       "      <td>NaN</td>\n",
       "      <td>NaN</td>\n",
       "      <td>NaN</td>\n",
       "      <td>NaN</td>\n",
       "    </tr>\n",
       "  </tbody>\n",
       "</table>\n",
       "<p>5 rows × 34 columns</p>\n",
       "</div>"
      ],
      "text/plain": [
       "                    id      conversation_id     created_at        date  \\\n",
       "0  1269188666171297792  1269188666171297792  1591433133000  2020-06-06   \n",
       "1  1269188574295085061  1269188574295085061  1591433111000  2020-06-06   \n",
       "2  1269188382103670787  1269188382103670787  1591433065000  2020-06-06   \n",
       "3  1269188380585275392  1269188380585275392  1591433064000  2020-06-06   \n",
       "4  1269188086736531456  1269188086736531456  1591432994000  2020-06-06   \n",
       "\n",
       "       time             timezone     user_id         username  \\\n",
       "0  14:15:33  India Standard Time  3222850370     ai_scientist   \n",
       "1  14:15:11  India Standard Time   555031989   ronald_vanloon   \n",
       "2  14:14:25  India Standard Time  1269440827  analyticsfrance   \n",
       "3  14:14:24  India Standard Time  1269440827  analyticsfrance   \n",
       "4  14:13:14  India Standard Time    13773282      timkindberg   \n",
       "\n",
       "                name place  ... geo source user_rt_id user_rt  retweet_id  \\\n",
       "0  Robotic Scientist   NaN  ... NaN    NaN        NaN     NaN         NaN   \n",
       "1    Ronald van Loon   NaN  ... NaN    NaN        NaN     NaN         NaN   \n",
       "2   Analytics France   NaN  ... NaN    NaN        NaN     NaN         NaN   \n",
       "3   Analytics France   NaN  ... NaN    NaN        NaN     NaN         NaN   \n",
       "4       Tim Kindberg   NaN  ... NaN    NaN        NaN     NaN         NaN   \n",
       "\n",
       "                                            reply_to  retweet_date translate  \\\n",
       "0  [{'user_id': '3222850370', 'username': 'AI_Sci...           NaN       NaN   \n",
       "1  [{'user_id': '555031989', 'username': 'Ronald_...           NaN       NaN   \n",
       "2  [{'user_id': '1269440827', 'username': 'Analyt...           NaN       NaN   \n",
       "3  [{'user_id': '1269440827', 'username': 'Analyt...           NaN       NaN   \n",
       "4  [{'user_id': '13773282', 'username': 'timkindb...           NaN       NaN   \n",
       "\n",
       "  trans_src trans_dest  \n",
       "0       NaN        NaN  \n",
       "1       NaN        NaN  \n",
       "2       NaN        NaN  \n",
       "3       NaN        NaN  \n",
       "4       NaN        NaN  \n",
       "\n",
       "[5 rows x 34 columns]"
      ]
     },
     "execution_count": 3,
     "metadata": {},
     "output_type": "execute_result"
    }
   ],
   "source": [
    "df.head(5)"
   ]
  },
  {
   "cell_type": "code",
   "execution_count": 4,
   "metadata": {},
   "outputs": [
    {
     "data": {
      "text/html": [
       "<div>\n",
       "<style scoped>\n",
       "    .dataframe tbody tr th:only-of-type {\n",
       "        vertical-align: middle;\n",
       "    }\n",
       "\n",
       "    .dataframe tbody tr th {\n",
       "        vertical-align: top;\n",
       "    }\n",
       "\n",
       "    .dataframe thead th {\n",
       "        text-align: right;\n",
       "    }\n",
       "</style>\n",
       "<table border=\"1\" class=\"dataframe\">\n",
       "  <thead>\n",
       "    <tr style=\"text-align: right;\">\n",
       "      <th></th>\n",
       "      <th>id</th>\n",
       "      <th>username</th>\n",
       "      <th>name</th>\n",
       "      <th>tweet</th>\n",
       "    </tr>\n",
       "  </thead>\n",
       "  <tbody>\n",
       "    <tr>\n",
       "      <th>0</th>\n",
       "      <td>1269188666171297792</td>\n",
       "      <td>ai_scientist</td>\n",
       "      <td>Robotic Scientist</td>\n",
       "      <td>VIDEO: Why the next big leap in #AI will have ...</td>\n",
       "    </tr>\n",
       "    <tr>\n",
       "      <th>1</th>\n",
       "      <td>1269188574295085061</td>\n",
       "      <td>ronald_vanloon</td>\n",
       "      <td>Ronald van Loon</td>\n",
       "      <td>How Amazon’s Delivery #Robots Will Navigate Yo...</td>\n",
       "    </tr>\n",
       "    <tr>\n",
       "      <th>2</th>\n",
       "      <td>1269188382103670787</td>\n",
       "      <td>analyticsfrance</td>\n",
       "      <td>Analytics France</td>\n",
       "      <td>Top Artificial Intelligence Investments and Fu...</td>\n",
       "    </tr>\n",
       "    <tr>\n",
       "      <th>3</th>\n",
       "      <td>1269188380585275392</td>\n",
       "      <td>analyticsfrance</td>\n",
       "      <td>Analytics France</td>\n",
       "      <td>Stay Competent with Most In-Demand Data Scienc...</td>\n",
       "    </tr>\n",
       "    <tr>\n",
       "      <th>4</th>\n",
       "      <td>1269188086736531456</td>\n",
       "      <td>timkindberg</td>\n",
       "      <td>Tim Kindberg</td>\n",
       "      <td>#MachineLearning is an epistemological black h...</td>\n",
       "    </tr>\n",
       "    <tr>\n",
       "      <th>...</th>\n",
       "      <td>...</td>\n",
       "      <td>...</td>\n",
       "      <td>...</td>\n",
       "      <td>...</td>\n",
       "    </tr>\n",
       "    <tr>\n",
       "      <th>1229</th>\n",
       "      <td>1268996014356094977</td>\n",
       "      <td>vishagashe</td>\n",
       "      <td>Vish Agashe</td>\n",
       "      <td>#Stanford #Engineering #ML #MachineLearning Au...</td>\n",
       "    </tr>\n",
       "    <tr>\n",
       "      <th>1230</th>\n",
       "      <td>1268996011336163329</td>\n",
       "      <td>southerndsc</td>\n",
       "      <td>Southern Data Science Conference</td>\n",
       "      <td>Don't forget to use the code \"HOPE\" for 25% of...</td>\n",
       "    </tr>\n",
       "    <tr>\n",
       "      <th>1231</th>\n",
       "      <td>1268996010702823424</td>\n",
       "      <td>kirkdborne</td>\n",
       "      <td>Kirk Borne</td>\n",
       "      <td>FREE 185-page PDF: A Comprehensive Guide to #M...</td>\n",
       "    </tr>\n",
       "    <tr>\n",
       "      <th>1232</th>\n",
       "      <td>1268996009809436672</td>\n",
       "      <td>vishagashe</td>\n",
       "      <td>Vish Agashe</td>\n",
       "      <td>Good read about  how other practitioners in th...</td>\n",
       "    </tr>\n",
       "    <tr>\n",
       "      <th>1233</th>\n",
       "      <td>1268995781782102022</td>\n",
       "      <td>sajidmirza</td>\n",
       "      <td>Sajid Mirza</td>\n",
       "      <td>Diversify Your Portfolio With AI #ArtificialIn...</td>\n",
       "    </tr>\n",
       "  </tbody>\n",
       "</table>\n",
       "<p>1234 rows × 4 columns</p>\n",
       "</div>"
      ],
      "text/plain": [
       "                       id         username                              name  \\\n",
       "0     1269188666171297792     ai_scientist                 Robotic Scientist   \n",
       "1     1269188574295085061   ronald_vanloon                   Ronald van Loon   \n",
       "2     1269188382103670787  analyticsfrance                  Analytics France   \n",
       "3     1269188380585275392  analyticsfrance                  Analytics France   \n",
       "4     1269188086736531456      timkindberg                      Tim Kindberg   \n",
       "...                   ...              ...                               ...   \n",
       "1229  1268996014356094977       vishagashe                       Vish Agashe   \n",
       "1230  1268996011336163329      southerndsc  Southern Data Science Conference   \n",
       "1231  1268996010702823424       kirkdborne                        Kirk Borne   \n",
       "1232  1268996009809436672       vishagashe                       Vish Agashe   \n",
       "1233  1268995781782102022       sajidmirza                       Sajid Mirza   \n",
       "\n",
       "                                                  tweet  \n",
       "0     VIDEO: Why the next big leap in #AI will have ...  \n",
       "1     How Amazon’s Delivery #Robots Will Navigate Yo...  \n",
       "2     Top Artificial Intelligence Investments and Fu...  \n",
       "3     Stay Competent with Most In-Demand Data Scienc...  \n",
       "4     #MachineLearning is an epistemological black h...  \n",
       "...                                                 ...  \n",
       "1229  #Stanford #Engineering #ML #MachineLearning Au...  \n",
       "1230  Don't forget to use the code \"HOPE\" for 25% of...  \n",
       "1231  FREE 185-page PDF: A Comprehensive Guide to #M...  \n",
       "1232  Good read about  how other practitioners in th...  \n",
       "1233  Diversify Your Portfolio With AI #ArtificialIn...  \n",
       "\n",
       "[1234 rows x 4 columns]"
      ]
     },
     "execution_count": 4,
     "metadata": {},
     "output_type": "execute_result"
    }
   ],
   "source": [
    "New_df=df[['id','username','name','tweet']]\n",
    "New_df"
   ]
  },
  {
   "cell_type": "code",
   "execution_count": 5,
   "metadata": {},
   "outputs": [
    {
     "data": {
      "text/plain": [
       "(1234, 4)"
      ]
     },
     "execution_count": 5,
     "metadata": {},
     "output_type": "execute_result"
    }
   ],
   "source": [
    "New_df.shape"
   ]
  },
  {
   "cell_type": "code",
   "execution_count": 6,
   "metadata": {},
   "outputs": [
    {
     "name": "stderr",
     "output_type": "stream",
     "text": [
      "D:\\anaconda\\lib\\site-packages\\ipykernel_launcher.py:2: SettingWithCopyWarning: \n",
      "A value is trying to be set on a copy of a slice from a DataFrame\n",
      "\n",
      "See the caveats in the documentation: https://pandas.pydata.org/pandas-docs/stable/user_guide/indexing.html#returning-a-view-versus-a-copy\n",
      "  \n"
     ]
    }
   ],
   "source": [
    "from sklearn.feature_extraction.text import TfidfVectorizer,CountVectorizer\n",
    "New_df.dropna(inplace=True)"
   ]
  },
  {
   "cell_type": "code",
   "execution_count": 7,
   "metadata": {},
   "outputs": [
    {
     "data": {
      "text/plain": [
       "(1234, 4)"
      ]
     },
     "execution_count": 7,
     "metadata": {},
     "output_type": "execute_result"
    }
   ],
   "source": [
    "New_df.shape"
   ]
  },
  {
   "cell_type": "code",
   "execution_count": 8,
   "metadata": {},
   "outputs": [
    {
     "data": {
      "text/html": [
       "<div>\n",
       "<style scoped>\n",
       "    .dataframe tbody tr th:only-of-type {\n",
       "        vertical-align: middle;\n",
       "    }\n",
       "\n",
       "    .dataframe tbody tr th {\n",
       "        vertical-align: top;\n",
       "    }\n",
       "\n",
       "    .dataframe thead th {\n",
       "        text-align: right;\n",
       "    }\n",
       "</style>\n",
       "<table border=\"1\" class=\"dataframe\">\n",
       "  <thead>\n",
       "    <tr style=\"text-align: right;\">\n",
       "      <th></th>\n",
       "      <th>id</th>\n",
       "      <th>username</th>\n",
       "      <th>name</th>\n",
       "      <th>tweet</th>\n",
       "    </tr>\n",
       "  </thead>\n",
       "  <tbody>\n",
       "    <tr>\n",
       "      <th>0</th>\n",
       "      <td>1269188666171297792</td>\n",
       "      <td>ai_scientist</td>\n",
       "      <td>Robotic Scientist</td>\n",
       "      <td>VIDEO: Why the next big leap in #AI will have ...</td>\n",
       "    </tr>\n",
       "    <tr>\n",
       "      <th>1</th>\n",
       "      <td>1269188574295085061</td>\n",
       "      <td>ronald_vanloon</td>\n",
       "      <td>Ronald van Loon</td>\n",
       "      <td>How Amazon’s Delivery #Robots Will Navigate Yo...</td>\n",
       "    </tr>\n",
       "    <tr>\n",
       "      <th>2</th>\n",
       "      <td>1269188382103670787</td>\n",
       "      <td>analyticsfrance</td>\n",
       "      <td>Analytics France</td>\n",
       "      <td>Top Artificial Intelligence Investments and Fu...</td>\n",
       "    </tr>\n",
       "    <tr>\n",
       "      <th>3</th>\n",
       "      <td>1269188380585275392</td>\n",
       "      <td>analyticsfrance</td>\n",
       "      <td>Analytics France</td>\n",
       "      <td>Stay Competent with Most In-Demand Data Scienc...</td>\n",
       "    </tr>\n",
       "    <tr>\n",
       "      <th>4</th>\n",
       "      <td>1269188086736531456</td>\n",
       "      <td>timkindberg</td>\n",
       "      <td>Tim Kindberg</td>\n",
       "      <td>#MachineLearning is an epistemological black h...</td>\n",
       "    </tr>\n",
       "  </tbody>\n",
       "</table>\n",
       "</div>"
      ],
      "text/plain": [
       "                    id         username               name  \\\n",
       "0  1269188666171297792     ai_scientist  Robotic Scientist   \n",
       "1  1269188574295085061   ronald_vanloon    Ronald van Loon   \n",
       "2  1269188382103670787  analyticsfrance   Analytics France   \n",
       "3  1269188380585275392  analyticsfrance   Analytics France   \n",
       "4  1269188086736531456      timkindberg       Tim Kindberg   \n",
       "\n",
       "                                               tweet  \n",
       "0  VIDEO: Why the next big leap in #AI will have ...  \n",
       "1  How Amazon’s Delivery #Robots Will Navigate Yo...  \n",
       "2  Top Artificial Intelligence Investments and Fu...  \n",
       "3  Stay Competent with Most In-Demand Data Scienc...  \n",
       "4  #MachineLearning is an epistemological black h...  "
      ]
     },
     "execution_count": 8,
     "metadata": {},
     "output_type": "execute_result"
    }
   ],
   "source": [
    "tweet=New_df.copy()\n",
    "tweet.head()"
   ]
  },
  {
   "cell_type": "code",
   "execution_count": 9,
   "metadata": {},
   "outputs": [
    {
     "data": {
      "text/plain": [
       "'How Amazon’s Delivery #Robots Will Navigate Your Sidewalk\\nby @fredericl @techcrunch\\n\\nRead more  https://tcrn.ch/2GX2Zp4\\xa0\\n#AI #IoT #BigData #MachineLearning #ArtificialIntelligence #ML #MI #Digital #DataScience #Analytics\\n\\nCc: @spirosmargaris @ogrisel @soumithchintala pic.twitter.com/51BVZNMjzs'"
      ]
     },
     "execution_count": 9,
     "metadata": {},
     "output_type": "execute_result"
    }
   ],
   "source": [
    "tweet.tweet[1]"
   ]
  },
  {
   "cell_type": "code",
   "execution_count": 10,
   "metadata": {},
   "outputs": [
    {
     "name": "stderr",
     "output_type": "stream",
     "text": [
      "[nltk_data] Downloading package stopwords to C:\\Users\\gaurav\n",
      "[nltk_data]     sahani\\AppData\\Roaming\\nltk_data...\n",
      "[nltk_data]   Package stopwords is already up-to-date!\n"
     ]
    },
    {
     "data": {
      "text/plain": [
       "True"
      ]
     },
     "execution_count": 10,
     "metadata": {},
     "output_type": "execute_result"
    }
   ],
   "source": [
    "import re\n",
    "import nltk\n",
    "nltk.download('stopwords')"
   ]
  },
  {
   "cell_type": "code",
   "execution_count": 11,
   "metadata": {},
   "outputs": [],
   "source": [
    "from nltk.corpus import stopwords\n",
    "from nltk.stem.porter import PorterStemmer\n",
    "ps=PorterStemmer()\n",
    "corpus=[]"
   ]
  },
  {
   "cell_type": "code",
   "execution_count": 12,
   "metadata": {},
   "outputs": [],
   "source": [
    "for i in range(0,len(tweet)):\n",
    "    review=re.sub('[^a-zA-Z]',' ',tweet['tweet'][i])\n",
    "    review=review.lower() \n",
    "    review=review.split()\n",
    "    review = [ps.stem(word) for word in review if not word in stopwords.words('english')]\n",
    "    review=' '.join(review)\n",
    "    corpus.append(review)"
   ]
  },
  {
   "cell_type": "code",
   "execution_count": 13,
   "metadata": {},
   "outputs": [
    {
     "data": {
      "text/plain": [
       "'amazon deliveri robot navig sidewalk fredericl techcrunch read http tcrn ch gx zp ai iot bigdata machinelearn artificialintellig ml mi digit datasci analyt cc spirosmargari ogrisel soumithchintala pic twitter com bvznmjz'"
      ]
     },
     "execution_count": 13,
     "metadata": {},
     "output_type": "execute_result"
    }
   ],
   "source": [
    "corpus[1]"
   ]
  },
  {
   "cell_type": "code",
   "execution_count": 14,
   "metadata": {},
   "outputs": [],
   "source": [
    "from sklearn.feature_extraction.text import TfidfVectorizer\n",
    "tfidf=TfidfVectorizer(max_features=5000,ngram_range=(1,3))  #NgRam gives the words the range..eg.\"good boy\" or \"Good one boy\"\n",
    "                                                         #First priority being the only word \"good\"\n",
    "X=tfidf.fit_transform(corpus).toarray() "
   ]
  },
  {
   "cell_type": "code",
   "execution_count": 15,
   "metadata": {},
   "outputs": [
    {
     "data": {
      "text/plain": [
       "(1234, 5000)"
      ]
     },
     "execution_count": 15,
     "metadata": {},
     "output_type": "execute_result"
    }
   ],
   "source": [
    "X.shape"
   ]
  },
  {
   "cell_type": "code",
   "execution_count": 16,
   "metadata": {},
   "outputs": [
    {
     "name": "stderr",
     "output_type": "stream",
     "text": [
      "[nltk_data] Downloading package vader_lexicon to C:\\Users\\gaurav\n",
      "[nltk_data]     sahani\\AppData\\Roaming\\nltk_data...\n",
      "[nltk_data]   Package vader_lexicon is already up-to-date!\n"
     ]
    },
    {
     "data": {
      "text/plain": [
       "True"
      ]
     },
     "execution_count": 16,
     "metadata": {},
     "output_type": "execute_result"
    }
   ],
   "source": [
    "from nltk.sentiment.vader import SentimentIntensityAnalyzer\n",
    "nltk.download('vader_lexicon')"
   ]
  },
  {
   "cell_type": "code",
   "execution_count": 17,
   "metadata": {},
   "outputs": [
    {
     "data": {
      "text/html": [
       "<div>\n",
       "<style scoped>\n",
       "    .dataframe tbody tr th:only-of-type {\n",
       "        vertical-align: middle;\n",
       "    }\n",
       "\n",
       "    .dataframe tbody tr th {\n",
       "        vertical-align: top;\n",
       "    }\n",
       "\n",
       "    .dataframe thead th {\n",
       "        text-align: right;\n",
       "    }\n",
       "</style>\n",
       "<table border=\"1\" class=\"dataframe\">\n",
       "  <thead>\n",
       "    <tr style=\"text-align: right;\">\n",
       "      <th></th>\n",
       "      <th>id</th>\n",
       "      <th>username</th>\n",
       "      <th>name</th>\n",
       "      <th>tweet</th>\n",
       "    </tr>\n",
       "  </thead>\n",
       "  <tbody>\n",
       "    <tr>\n",
       "      <th>0</th>\n",
       "      <td>1269188666171297792</td>\n",
       "      <td>ai_scientist</td>\n",
       "      <td>Robotic Scientist</td>\n",
       "      <td>VIDEO: Why the next big leap in #AI will have ...</td>\n",
       "    </tr>\n",
       "    <tr>\n",
       "      <th>1</th>\n",
       "      <td>1269188574295085061</td>\n",
       "      <td>ronald_vanloon</td>\n",
       "      <td>Ronald van Loon</td>\n",
       "      <td>How Amazon’s Delivery #Robots Will Navigate Yo...</td>\n",
       "    </tr>\n",
       "    <tr>\n",
       "      <th>2</th>\n",
       "      <td>1269188382103670787</td>\n",
       "      <td>analyticsfrance</td>\n",
       "      <td>Analytics France</td>\n",
       "      <td>Top Artificial Intelligence Investments and Fu...</td>\n",
       "    </tr>\n",
       "    <tr>\n",
       "      <th>3</th>\n",
       "      <td>1269188380585275392</td>\n",
       "      <td>analyticsfrance</td>\n",
       "      <td>Analytics France</td>\n",
       "      <td>Stay Competent with Most In-Demand Data Scienc...</td>\n",
       "    </tr>\n",
       "    <tr>\n",
       "      <th>4</th>\n",
       "      <td>1269188086736531456</td>\n",
       "      <td>timkindberg</td>\n",
       "      <td>Tim Kindberg</td>\n",
       "      <td>#MachineLearning is an epistemological black h...</td>\n",
       "    </tr>\n",
       "  </tbody>\n",
       "</table>\n",
       "</div>"
      ],
      "text/plain": [
       "                    id         username               name  \\\n",
       "0  1269188666171297792     ai_scientist  Robotic Scientist   \n",
       "1  1269188574295085061   ronald_vanloon    Ronald van Loon   \n",
       "2  1269188382103670787  analyticsfrance   Analytics France   \n",
       "3  1269188380585275392  analyticsfrance   Analytics France   \n",
       "4  1269188086736531456      timkindberg       Tim Kindberg   \n",
       "\n",
       "                                               tweet  \n",
       "0  VIDEO: Why the next big leap in #AI will have ...  \n",
       "1  How Amazon’s Delivery #Robots Will Navigate Yo...  \n",
       "2  Top Artificial Intelligence Investments and Fu...  \n",
       "3  Stay Competent with Most In-Demand Data Scienc...  \n",
       "4  #MachineLearning is an epistemological black h...  "
      ]
     },
     "execution_count": 17,
     "metadata": {},
     "output_type": "execute_result"
    }
   ],
   "source": [
    "tweet.head()"
   ]
  },
  {
   "cell_type": "code",
   "execution_count": 18,
   "metadata": {},
   "outputs": [],
   "source": [
    "import textblob\n",
    "from textblob import TextBlob"
   ]
  },
  {
   "cell_type": "code",
   "execution_count": 19,
   "metadata": {},
   "outputs": [],
   "source": [
    "polarity=[]\n",
    "for i in tweet['tweet'].values:\n",
    "    try:\n",
    "        analysis=TextBlob(i)\n",
    "        polarity.append(analysis.sentiment.polarity)\n",
    "    except:\n",
    "        polarity.append(0)    "
   ]
  },
  {
   "cell_type": "code",
   "execution_count": 20,
   "metadata": {},
   "outputs": [
    {
     "data": {
      "text/html": [
       "<div>\n",
       "<style scoped>\n",
       "    .dataframe tbody tr th:only-of-type {\n",
       "        vertical-align: middle;\n",
       "    }\n",
       "\n",
       "    .dataframe tbody tr th {\n",
       "        vertical-align: top;\n",
       "    }\n",
       "\n",
       "    .dataframe thead th {\n",
       "        text-align: right;\n",
       "    }\n",
       "</style>\n",
       "<table border=\"1\" class=\"dataframe\">\n",
       "  <thead>\n",
       "    <tr style=\"text-align: right;\">\n",
       "      <th></th>\n",
       "      <th>id</th>\n",
       "      <th>username</th>\n",
       "      <th>name</th>\n",
       "      <th>tweet</th>\n",
       "      <th>polarity</th>\n",
       "    </tr>\n",
       "  </thead>\n",
       "  <tbody>\n",
       "    <tr>\n",
       "      <th>0</th>\n",
       "      <td>1269188666171297792</td>\n",
       "      <td>ai_scientist</td>\n",
       "      <td>Robotic Scientist</td>\n",
       "      <td>VIDEO: Why the next big leap in #AI will have ...</td>\n",
       "      <td>0.000000</td>\n",
       "    </tr>\n",
       "    <tr>\n",
       "      <th>1</th>\n",
       "      <td>1269188574295085061</td>\n",
       "      <td>ronald_vanloon</td>\n",
       "      <td>Ronald van Loon</td>\n",
       "      <td>How Amazon’s Delivery #Robots Will Navigate Yo...</td>\n",
       "      <td>0.250000</td>\n",
       "    </tr>\n",
       "    <tr>\n",
       "      <th>2</th>\n",
       "      <td>1269188382103670787</td>\n",
       "      <td>analyticsfrance</td>\n",
       "      <td>Analytics France</td>\n",
       "      <td>Top Artificial Intelligence Investments and Fu...</td>\n",
       "      <td>0.033333</td>\n",
       "    </tr>\n",
       "    <tr>\n",
       "      <th>3</th>\n",
       "      <td>1269188380585275392</td>\n",
       "      <td>analyticsfrance</td>\n",
       "      <td>Analytics France</td>\n",
       "      <td>Stay Competent with Most In-Demand Data Scienc...</td>\n",
       "      <td>0.400000</td>\n",
       "    </tr>\n",
       "    <tr>\n",
       "      <th>4</th>\n",
       "      <td>1269188086736531456</td>\n",
       "      <td>timkindberg</td>\n",
       "      <td>Tim Kindberg</td>\n",
       "      <td>#MachineLearning is an epistemological black h...</td>\n",
       "      <td>0.211111</td>\n",
       "    </tr>\n",
       "  </tbody>\n",
       "</table>\n",
       "</div>"
      ],
      "text/plain": [
       "                    id         username               name  \\\n",
       "0  1269188666171297792     ai_scientist  Robotic Scientist   \n",
       "1  1269188574295085061   ronald_vanloon    Ronald van Loon   \n",
       "2  1269188382103670787  analyticsfrance   Analytics France   \n",
       "3  1269188380585275392  analyticsfrance   Analytics France   \n",
       "4  1269188086736531456      timkindberg       Tim Kindberg   \n",
       "\n",
       "                                               tweet  polarity  \n",
       "0  VIDEO: Why the next big leap in #AI will have ...  0.000000  \n",
       "1  How Amazon’s Delivery #Robots Will Navigate Yo...  0.250000  \n",
       "2  Top Artificial Intelligence Investments and Fu...  0.033333  \n",
       "3  Stay Competent with Most In-Demand Data Scienc...  0.400000  \n",
       "4  #MachineLearning is an epistemological black h...  0.211111  "
      ]
     },
     "execution_count": 20,
     "metadata": {},
     "output_type": "execute_result"
    }
   ],
   "source": [
    "tweet['polarity']=polarity\n",
    "tweet.head()"
   ]
  },
  {
   "cell_type": "code",
   "execution_count": 21,
   "metadata": {},
   "outputs": [
    {
     "name": "stderr",
     "output_type": "stream",
     "text": [
      "D:\\anaconda\\lib\\site-packages\\ipykernel_launcher.py:1: SettingWithCopyWarning: \n",
      "A value is trying to be set on a copy of a slice from a DataFrame\n",
      "\n",
      "See the caveats in the documentation: https://pandas.pydata.org/pandas-docs/stable/user_guide/indexing.html#returning-a-view-versus-a-copy\n",
      "  \"\"\"Entry point for launching an IPython kernel.\n",
      "D:\\anaconda\\lib\\site-packages\\ipykernel_launcher.py:2: SettingWithCopyWarning: \n",
      "A value is trying to be set on a copy of a slice from a DataFrame\n",
      "\n",
      "See the caveats in the documentation: https://pandas.pydata.org/pandas-docs/stable/user_guide/indexing.html#returning-a-view-versus-a-copy\n",
      "  \n",
      "D:\\anaconda\\lib\\site-packages\\ipykernel_launcher.py:3: SettingWithCopyWarning: \n",
      "A value is trying to be set on a copy of a slice from a DataFrame\n",
      "\n",
      "See the caveats in the documentation: https://pandas.pydata.org/pandas-docs/stable/user_guide/indexing.html#returning-a-view-versus-a-copy\n",
      "  This is separate from the ipykernel package so we can avoid doing imports until\n",
      "D:\\anaconda\\lib\\site-packages\\ipykernel_launcher.py:4: SettingWithCopyWarning: \n",
      "A value is trying to be set on a copy of a slice from a DataFrame\n",
      "\n",
      "See the caveats in the documentation: https://pandas.pydata.org/pandas-docs/stable/user_guide/indexing.html#returning-a-view-versus-a-copy\n",
      "  after removing the cwd from sys.path.\n",
      "D:\\anaconda\\lib\\site-packages\\ipykernel_launcher.py:5: SettingWithCopyWarning: \n",
      "A value is trying to be set on a copy of a slice from a DataFrame\n",
      "\n",
      "See the caveats in the documentation: https://pandas.pydata.org/pandas-docs/stable/user_guide/indexing.html#returning-a-view-versus-a-copy\n",
      "  \"\"\"\n"
     ]
    }
   ],
   "source": [
    "tweet.polarity[tweet.polarity == 0.0] = 1\n",
    "tweet.polarity[(tweet.polarity > 0) & (tweet.polarity <= -0.40)] = 2\n",
    "tweet.polarity[(tweet.polarity > -0.4) & (tweet.polarity <= -0.99)] = 3\n",
    "tweet.polarity[(tweet.polarity > 0) & (tweet.polarity <= 0.30)] = 4\n",
    "tweet.polarity[(tweet.polarity > 0.30) & (tweet.polarity <= 0.99)] = 5\n",
    "\n",
    "#Where:\n",
    "#1 = Neural\n",
    "#2 = Slightly Negative\n",
    "#3 = Negative\n",
    "#4 = Slightly Positive\n",
    "#5 = Positive"
   ]
  },
  {
   "cell_type": "code",
   "execution_count": 22,
   "metadata": {},
   "outputs": [
    {
     "data": {
      "text/html": [
       "<div>\n",
       "<style scoped>\n",
       "    .dataframe tbody tr th:only-of-type {\n",
       "        vertical-align: middle;\n",
       "    }\n",
       "\n",
       "    .dataframe tbody tr th {\n",
       "        vertical-align: top;\n",
       "    }\n",
       "\n",
       "    .dataframe thead th {\n",
       "        text-align: right;\n",
       "    }\n",
       "</style>\n",
       "<table border=\"1\" class=\"dataframe\">\n",
       "  <thead>\n",
       "    <tr style=\"text-align: right;\">\n",
       "      <th></th>\n",
       "      <th>id</th>\n",
       "      <th>username</th>\n",
       "      <th>name</th>\n",
       "      <th>tweet</th>\n",
       "      <th>polarity</th>\n",
       "    </tr>\n",
       "  </thead>\n",
       "  <tbody>\n",
       "    <tr>\n",
       "      <th>0</th>\n",
       "      <td>1269188666171297792</td>\n",
       "      <td>ai_scientist</td>\n",
       "      <td>Robotic Scientist</td>\n",
       "      <td>VIDEO: Why the next big leap in #AI will have ...</td>\n",
       "      <td>1.0</td>\n",
       "    </tr>\n",
       "    <tr>\n",
       "      <th>1</th>\n",
       "      <td>1269188574295085061</td>\n",
       "      <td>ronald_vanloon</td>\n",
       "      <td>Ronald van Loon</td>\n",
       "      <td>How Amazon’s Delivery #Robots Will Navigate Yo...</td>\n",
       "      <td>4.0</td>\n",
       "    </tr>\n",
       "    <tr>\n",
       "      <th>2</th>\n",
       "      <td>1269188382103670787</td>\n",
       "      <td>analyticsfrance</td>\n",
       "      <td>Analytics France</td>\n",
       "      <td>Top Artificial Intelligence Investments and Fu...</td>\n",
       "      <td>4.0</td>\n",
       "    </tr>\n",
       "    <tr>\n",
       "      <th>3</th>\n",
       "      <td>1269188380585275392</td>\n",
       "      <td>analyticsfrance</td>\n",
       "      <td>Analytics France</td>\n",
       "      <td>Stay Competent with Most In-Demand Data Scienc...</td>\n",
       "      <td>5.0</td>\n",
       "    </tr>\n",
       "    <tr>\n",
       "      <th>4</th>\n",
       "      <td>1269188086736531456</td>\n",
       "      <td>timkindberg</td>\n",
       "      <td>Tim Kindberg</td>\n",
       "      <td>#MachineLearning is an epistemological black h...</td>\n",
       "      <td>4.0</td>\n",
       "    </tr>\n",
       "  </tbody>\n",
       "</table>\n",
       "</div>"
      ],
      "text/plain": [
       "                    id         username               name  \\\n",
       "0  1269188666171297792     ai_scientist  Robotic Scientist   \n",
       "1  1269188574295085061   ronald_vanloon    Ronald van Loon   \n",
       "2  1269188382103670787  analyticsfrance   Analytics France   \n",
       "3  1269188380585275392  analyticsfrance   Analytics France   \n",
       "4  1269188086736531456      timkindberg       Tim Kindberg   \n",
       "\n",
       "                                               tweet  polarity  \n",
       "0  VIDEO: Why the next big leap in #AI will have ...       1.0  \n",
       "1  How Amazon’s Delivery #Robots Will Navigate Yo...       4.0  \n",
       "2  Top Artificial Intelligence Investments and Fu...       4.0  \n",
       "3  Stay Competent with Most In-Demand Data Scienc...       5.0  \n",
       "4  #MachineLearning is an epistemological black h...       4.0  "
      ]
     },
     "execution_count": 22,
     "metadata": {},
     "output_type": "execute_result"
    }
   ],
   "source": [
    "tweet.head()"
   ]
  },
  {
   "cell_type": "code",
   "execution_count": 23,
   "metadata": {},
   "outputs": [
    {
     "name": "stdout",
     "output_type": "stream",
     "text": [
      "<class 'pandas.core.frame.DataFrame'>\n",
      "Int64Index: 1234 entries, 0 to 1233\n",
      "Data columns (total 1 columns):\n",
      " #   Column    Non-Null Count  Dtype\n",
      "---  ------    --------------  -----\n",
      " 0   polarity  1234 non-null   int32\n",
      "dtypes: int32(1)\n",
      "memory usage: 54.5 KB\n"
     ]
    }
   ],
   "source": [
    "y=tweet[['polarity']]\n",
    "y=y.astype(int)\n",
    "y.info()"
   ]
  },
  {
   "cell_type": "code",
   "execution_count": 24,
   "metadata": {},
   "outputs": [],
   "source": [
    "from sklearn.model_selection import train_test_split\n",
    "X_train, X_test, y_train, y_test = train_test_split(X, y, test_size=0.22, random_state=0)"
   ]
  },
  {
   "cell_type": "code",
   "execution_count": 25,
   "metadata": {},
   "outputs": [],
   "source": [
    "from sklearn.naive_bayes import MultinomialNB\n",
    "classifier=MultinomialNB()"
   ]
  },
  {
   "cell_type": "code",
   "execution_count": 26,
   "metadata": {},
   "outputs": [],
   "source": [
    "from sklearn import metrics\n",
    "from sklearn.metrics import confusion_matrix"
   ]
  },
  {
   "cell_type": "code",
   "execution_count": 27,
   "metadata": {},
   "outputs": [
    {
     "name": "stderr",
     "output_type": "stream",
     "text": [
      "D:\\anaconda\\lib\\site-packages\\sklearn\\utils\\validation.py:760: DataConversionWarning: A column-vector y was passed when a 1d array was expected. Please change the shape of y to (n_samples, ), for example using ravel().\n",
      "  y = column_or_1d(y, warn=True)\n"
     ]
    },
    {
     "name": "stdout",
     "output_type": "stream",
     "text": [
      "accuracy:   0.739\n"
     ]
    },
    {
     "data": {
      "text/plain": [
       "array([[  7,  13,   3,   2],\n",
       "       [  0, 170,   0,   0],\n",
       "       [  0,  23,  12,   2],\n",
       "       [  0,  26,   2,  12]], dtype=int64)"
      ]
     },
     "execution_count": 27,
     "metadata": {},
     "output_type": "execute_result"
    }
   ],
   "source": [
    "classifier.fit(X_train, y_train)\n",
    "pred = classifier.predict(X_test)\n",
    "score = metrics.accuracy_score(y_test, pred)\n",
    "print(\"accuracy:   %0.3f\" % score)\n",
    "metrics.confusion_matrix(y_test, pred)"
   ]
  },
  {
   "cell_type": "code",
   "execution_count": null,
   "metadata": {},
   "outputs": [],
   "source": []
  }
 ],
 "metadata": {
  "kernelspec": {
   "display_name": "Python 3",
   "language": "python",
   "name": "python3"
  },
  "language_info": {
   "codemirror_mode": {
    "name": "ipython",
    "version": 3
   },
   "file_extension": ".py",
   "mimetype": "text/x-python",
   "name": "python",
   "nbconvert_exporter": "python",
   "pygments_lexer": "ipython3",
   "version": "3.7.6"
  }
 },
 "nbformat": 4,
 "nbformat_minor": 4
}
